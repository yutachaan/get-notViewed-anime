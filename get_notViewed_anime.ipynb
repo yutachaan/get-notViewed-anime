{
 "cells": [
  {
   "cell_type": "code",
   "execution_count": 149,
   "source": [
    "import requests\n",
    "import json\n",
    "import pandas as pd\n",
    "import csv"
   ],
   "outputs": [],
   "metadata": {}
  },
  {
   "cell_type": "code",
   "execution_count": 150,
   "source": [
    "url = \"https://api.annict.com/graphql\"\n",
    "\n",
    "token = input() # Annictのアクセストークン\n",
    "headers = {\"Authorization\": f\"bearer {token}\"}\n",
    "\n",
    "query = \"\"\"query {\n",
    "            viewer {\n",
    "              works(state: WATCHED, orderBy:{field: SEASON, direction:DESC}) {\n",
    "                nodes {\n",
    "                  title,\n",
    "                  seriesList {\n",
    "                    nodes {\n",
    "                      name,\n",
    "                      works(orderBy:{field:SEASON, direction:ASC}) {\n",
    "                        edges {\n",
    "                          summary,\n",
    "                          node {\n",
    "                            viewerStatusState,\n",
    "                            title\n",
    "                          }\n",
    "                        }\n",
    "                      }\n",
    "                    }\n",
    "                  }\n",
    "                }\n",
    "              }\n",
    "            }\n",
    "          }\"\"\""
   ],
   "outputs": [],
   "metadata": {}
  },
  {
   "cell_type": "code",
   "execution_count": 151,
   "source": [
    "r = requests.post(url, headers=headers, data={\"query\": query})\n",
    "print(r.status_code)\n",
    "\n",
    "df = pd.DataFrame(json.loads(r.text)[\"data\"][\"viewer\"][\"works\"][\"nodes\"])"
   ],
   "outputs": [
    {
     "output_type": "stream",
     "name": "stdout",
     "text": [
      "200\n"
     ]
    }
   ],
   "metadata": {}
  },
  {
   "cell_type": "code",
   "execution_count": 152,
   "source": [
    "notViewed = []\n",
    "set_notViewd = set()\n",
    "ignore_list = [\"プリキュア\", \"ルパン\", \"ポケットモンスター\", \"コナン\", \"ドラゴンボール\"]\n",
    "\n",
    "for index, row in df.iterrows():\n",
    "  if any(x in row[\"title\"] for x in ignore_list): continue\n",
    "\n",
    "  df2 = pd.DataFrame(row[\"seriesList\"][\"nodes\"])\n",
    "  for index2, row2 in df2.iterrows():\n",
    "    seriesName = row2[\"name\"]\n",
    "\n",
    "    df3 = pd.DataFrame(row2[\"works\"][\"edges\"])\n",
    "    for index3, row3, in df3.iterrows():\n",
    "      status = row3[\"node\"][\"viewerStatusState\"]\n",
    "      title = row3[\"node\"][\"title\"]\n",
    "      summary = row3[\"summary\"]\n",
    "\n",
    "      if status == \"NO_STATE\":\n",
    "        if (all(x not in title for x in ignore_list)) and (title not in set_notViewd):\n",
    "            notViewed.append({f\"{seriesName}({summary})\": title})\n",
    "            set_notViewd.add(title)"
   ],
   "outputs": [],
   "metadata": {}
  },
  {
   "cell_type": "code",
   "execution_count": 153,
   "source": [
    "with open(\"./notViewed_anime.csv\", \"w\") as f:\n",
    "  writer = csv.writer(f)\n",
    "  for anime in notViewed:\n",
    "    for summary, title in anime.items():\n",
    "      writer.writerow([summary, title])\n",
    "      print(f\"{summary}: {title}\")"
   ],
   "outputs": [
    {
     "output_type": "stream",
     "name": "stdout",
     "text": [
      "ゆるキャン△(DVD/Blu-ray特典映像): ゆるキャン△ 映像特典\n",
      "ゆるキャン△(へやキャン△ DVD/Blu-ray映像特典): へやキャン△ SPECIAL EPISODE「サウナとごはんと三輪バイク」\n",
      "鬼滅の刃(総集編1): 鬼滅の刃 兄妹の絆\n",
      "鬼滅の刃(総集編3): 鬼滅の刃 柱合会議・蝶屋敷編\n",
      "鬼滅の刃(総集編2): 鬼滅の刃 那田蜘蛛山編\n",
      "鬼滅の刃(特別編集版): 鬼滅の刃 竈門炭治郎 立志編 特別編集版\n",
      "PUI PUI モルカー(劇場版): とびだせ！ならせ！PUI PUI モルカー\n",
      "ダンジョンに出会いを求めるのは間違っているだろうか(OVA): ダンジョンに出会いを求めるのは間違っているだろうか III OVA「オラリオに温泉を求めるのは間違っているだろうか 〜おふろの神様フォーエバー〜」\n",
      "やはり俺の青春ラブコメはまちがっている。(OVA): やはり俺の青春ラブコメはまちがっている。完 OVA\n",
      "かぐや様は告らせたい〜天才たちの恋愛頭脳戦〜(OVA): かぐや様は告らせたい〜天才たちの恋愛頭脳戦〜 OVA 「かぐや様ダークネスvolume 1／かぐや様ダークネスvolume 2／かぐや様は食べさせたい」\n",
      "この素晴らしい世界に祝福を！(OVA): この素晴らしい世界に祝福を！2 OVA「この素晴らしい芸術に祝福を！」\n",
      "HELLO WORLD(スピンオフ): ANOTHER WORLD\n",
      "あそびあそばせ(OVA): あそびあそばせ OVA「コスプレ大会／大人の私へ」\n",
      "あそびあそばせ(OVA): あそびあそばせ 新作アニメ\n",
      "ヲタクに恋は難しい(OVA): ヲタクに恋は難しい OAD「Youth」\n",
      "ヲタクに恋は難しい(OVA): ヲタクに恋は難しい OAD 第2話「トモダチの距離」\n",
      "ヲタクに恋は難しい(OVA): ヲタクに恋は難しい 11巻特装版付属​OAD「社員旅行と願い事」\n",
      "ソードアート・オンライン(4期): ソードアート・オンライン アリシゼーション War of Underworld\n",
      "ソードアート・オンライン(4期2部): ソードアート・オンライン アリシゼーション War of Underworld ‐THE LAST SEASON‐\n",
      "ソードアート・オンライン(): 劇場版 ソードアート・オンライン プログレッシブ 星なき夜のアリア\n",
      "暗殺教室(OVA): 暗殺教室「修学旅行編」\n",
      "暗殺教室(Web): 暗殺教室 課外授業編\n",
      "暗殺教室(Web): 殺せんせーＱ！\n",
      "ラブライブ！サンシャイン!!(2期): ラブライブ！サンシャイン!! (第2期)\n",
      "ラブライブ！サンシャイン!!(劇場版): 劇場版 ラブライブ！サンシャイン!! The School Idol Movie Over the Rainbow\n",
      "ラブライブ！ School Idol Project(スーパースター!!): ラブライブ！スーパースター!!\n",
      "ラブライブ！ School Idol Project(虹ヶ咲学園 2期): ラブライブ！虹ヶ咲学園スクールアイドル同好会 (第2期)\n"
     ]
    }
   ],
   "metadata": {}
  },
  {
   "cell_type": "code",
   "execution_count": null,
   "source": [],
   "outputs": [],
   "metadata": {}
  }
 ],
 "metadata": {
  "orig_nbformat": 4,
  "language_info": {
   "name": "python",
   "version": "3.9.6",
   "mimetype": "text/x-python",
   "codemirror_mode": {
    "name": "ipython",
    "version": 3
   },
   "pygments_lexer": "ipython3",
   "nbconvert_exporter": "python",
   "file_extension": ".py"
  },
  "kernelspec": {
   "name": "python3",
   "display_name": "Python 3.9.6 64-bit ('base': conda)"
  },
  "interpreter": {
   "hash": "f85c0ae1067a86ad6a96b144378883e79fd1516474b579ba33ee3a7084540002"
  }
 },
 "nbformat": 4,
 "nbformat_minor": 2
}